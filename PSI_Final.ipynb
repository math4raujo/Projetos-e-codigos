{
 "cells": [
  {
   "cell_type": "code",
   "execution_count": 2,
   "id": "dfefc8ae-9951-446d-a5bf-7a5cc842693f",
   "metadata": {},
   "outputs": [],
   "source": [
    "import pandas as pd\n",
    "import numpy as np\n",
    "from seaborn import load_dataset\n",
    "from pandas import read_csv\n",
    "from sklearn.ensemble import RandomForestClassifier\n",
    "from sklearn.model_selection import train_test_split\n",
    "from sklearn.metrics import confusion_matrix, accuracy_score, classification_report"
   ]
  },
  {
   "cell_type": "markdown",
   "id": "2545c077-68cb-40bb-9976-e45d377bb7d0",
   "metadata": {},
   "source": [
    "Usando o 'diabetes_prediction_dataset' para treinar um modelo e assim obter as probabilidades da classe positiva"
   ]
  },
  {
   "cell_type": "code",
   "execution_count": 3,
   "id": "6bdb04ec-9197-4c1e-a029-71258a2a11a2",
   "metadata": {},
   "outputs": [],
   "source": [
    "df = read_csv(\"diabetes_prediction_dataset.csv\")"
   ]
  },
  {
   "cell_type": "markdown",
   "id": "6d79ac6c-fc8d-42a4-b629-e0294c2c9a45",
   "metadata": {},
   "source": [
    "Codificando algumas variáveis do Dataset para treinar o classificador"
   ]
  },
  {
   "cell_type": "code",
   "execution_count": 4,
   "id": "1298939e-a0db-4c4c-b35d-89ffb1ce7451",
   "metadata": {},
   "outputs": [],
   "source": [
    "df = pd.get_dummies(df, columns=['gender'], drop_first=True)\n",
    "df = pd.get_dummies(df, columns=['smoking_history'], drop_first=True)"
   ]
  },
  {
   "cell_type": "markdown",
   "id": "42e4822c-18f6-4794-a4f1-c35eacf4d5c2",
   "metadata": {},
   "source": [
    "**Treinando o modelo**\n",
    "</br>O algoritmo escolhido para treino do modelo é o Random Forest Classifier"
   ]
  },
  {
   "cell_type": "code",
   "execution_count": 5,
   "id": "04a99815-4190-4ce4-92cf-321c280679a6",
   "metadata": {},
   "outputs": [
    {
     "data": {
      "text/plain": [
       "((70000, 13), (30000, 13), (70000,), (30000,))"
      ]
     },
     "execution_count": 5,
     "metadata": {},
     "output_type": "execute_result"
    }
   ],
   "source": [
    "y = df['diabetes']\n",
    "X = df.drop(['diabetes'], axis=1)\n",
    "X_train, X_test, y_train, y_test = train_test_split(X, y, test_size=0.3, random_state=42)\n",
    "X_train.shape, X_test.shape, y_train.shape, y_test.shape"
   ]
  },
  {
   "cell_type": "code",
   "execution_count": 7,
   "id": "20e13ccb-4092-4e84-8096-377b2a7ebaad",
   "metadata": {},
   "outputs": [
    {
     "name": "stdout",
     "output_type": "stream",
     "text": [
      "CPU times: total: 953 ms\n",
      "Wall time: 983 ms\n"
     ]
    },
    {
     "data": {
      "text/html": [
       "<style>#sk-container-id-2 {color: black;background-color: white;}#sk-container-id-2 pre{padding: 0;}#sk-container-id-2 div.sk-toggleable {background-color: white;}#sk-container-id-2 label.sk-toggleable__label {cursor: pointer;display: block;width: 100%;margin-bottom: 0;padding: 0.3em;box-sizing: border-box;text-align: center;}#sk-container-id-2 label.sk-toggleable__label-arrow:before {content: \"▸\";float: left;margin-right: 0.25em;color: #696969;}#sk-container-id-2 label.sk-toggleable__label-arrow:hover:before {color: black;}#sk-container-id-2 div.sk-estimator:hover label.sk-toggleable__label-arrow:before {color: black;}#sk-container-id-2 div.sk-toggleable__content {max-height: 0;max-width: 0;overflow: hidden;text-align: left;background-color: #f0f8ff;}#sk-container-id-2 div.sk-toggleable__content pre {margin: 0.2em;color: black;border-radius: 0.25em;background-color: #f0f8ff;}#sk-container-id-2 input.sk-toggleable__control:checked~div.sk-toggleable__content {max-height: 200px;max-width: 100%;overflow: auto;}#sk-container-id-2 input.sk-toggleable__control:checked~label.sk-toggleable__label-arrow:before {content: \"▾\";}#sk-container-id-2 div.sk-estimator input.sk-toggleable__control:checked~label.sk-toggleable__label {background-color: #d4ebff;}#sk-container-id-2 div.sk-label input.sk-toggleable__control:checked~label.sk-toggleable__label {background-color: #d4ebff;}#sk-container-id-2 input.sk-hidden--visually {border: 0;clip: rect(1px 1px 1px 1px);clip: rect(1px, 1px, 1px, 1px);height: 1px;margin: -1px;overflow: hidden;padding: 0;position: absolute;width: 1px;}#sk-container-id-2 div.sk-estimator {font-family: monospace;background-color: #f0f8ff;border: 1px dotted black;border-radius: 0.25em;box-sizing: border-box;margin-bottom: 0.5em;}#sk-container-id-2 div.sk-estimator:hover {background-color: #d4ebff;}#sk-container-id-2 div.sk-parallel-item::after {content: \"\";width: 100%;border-bottom: 1px solid gray;flex-grow: 1;}#sk-container-id-2 div.sk-label:hover label.sk-toggleable__label {background-color: #d4ebff;}#sk-container-id-2 div.sk-serial::before {content: \"\";position: absolute;border-left: 1px solid gray;box-sizing: border-box;top: 0;bottom: 0;left: 50%;z-index: 0;}#sk-container-id-2 div.sk-serial {display: flex;flex-direction: column;align-items: center;background-color: white;padding-right: 0.2em;padding-left: 0.2em;position: relative;}#sk-container-id-2 div.sk-item {position: relative;z-index: 1;}#sk-container-id-2 div.sk-parallel {display: flex;align-items: stretch;justify-content: center;background-color: white;position: relative;}#sk-container-id-2 div.sk-item::before, #sk-container-id-2 div.sk-parallel-item::before {content: \"\";position: absolute;border-left: 1px solid gray;box-sizing: border-box;top: 0;bottom: 0;left: 50%;z-index: -1;}#sk-container-id-2 div.sk-parallel-item {display: flex;flex-direction: column;z-index: 1;position: relative;background-color: white;}#sk-container-id-2 div.sk-parallel-item:first-child::after {align-self: flex-end;width: 50%;}#sk-container-id-2 div.sk-parallel-item:last-child::after {align-self: flex-start;width: 50%;}#sk-container-id-2 div.sk-parallel-item:only-child::after {width: 0;}#sk-container-id-2 div.sk-dashed-wrapped {border: 1px dashed gray;margin: 0 0.4em 0.5em 0.4em;box-sizing: border-box;padding-bottom: 0.4em;background-color: white;}#sk-container-id-2 div.sk-label label {font-family: monospace;font-weight: bold;display: inline-block;line-height: 1.2em;}#sk-container-id-2 div.sk-label-container {text-align: center;}#sk-container-id-2 div.sk-container {/* jupyter's `normalize.less` sets `[hidden] { display: none; }` but bootstrap.min.css set `[hidden] { display: none !important; }` so we also need the `!important` here to be able to override the default hidden behavior on the sphinx rendered scikit-learn.org. See: https://github.com/scikit-learn/scikit-learn/issues/21755 */display: inline-block !important;position: relative;}#sk-container-id-2 div.sk-text-repr-fallback {display: none;}</style><div id=\"sk-container-id-2\" class=\"sk-top-container\"><div class=\"sk-text-repr-fallback\"><pre>RandomForestClassifier(max_depth=5, n_estimators=50, random_state=42)</pre><b>In a Jupyter environment, please rerun this cell to show the HTML representation or trust the notebook. <br />On GitHub, the HTML representation is unable to render, please try loading this page with nbviewer.org.</b></div><div class=\"sk-container\" hidden><div class=\"sk-item\"><div class=\"sk-estimator sk-toggleable\"><input class=\"sk-toggleable__control sk-hidden--visually\" id=\"sk-estimator-id-2\" type=\"checkbox\" checked><label for=\"sk-estimator-id-2\" class=\"sk-toggleable__label sk-toggleable__label-arrow\">RandomForestClassifier</label><div class=\"sk-toggleable__content\"><pre>RandomForestClassifier(max_depth=5, n_estimators=50, random_state=42)</pre></div></div></div></div></div>"
      ],
      "text/plain": [
       "RandomForestClassifier(max_depth=5, n_estimators=50, random_state=42)"
      ]
     },
     "execution_count": 7,
     "metadata": {},
     "output_type": "execute_result"
    }
   ],
   "source": [
    "%%time\n",
    "rf = RandomForestClassifier(n_estimators = 50, max_depth = 5, random_state=42)\n",
    "rf.fit(X_train, y_train)"
   ]
  },
  {
   "cell_type": "markdown",
   "id": "6fd12420-04a7-4ada-b5f4-1fbe5658b61b",
   "metadata": {},
   "source": [
    "Verificando o Classification Report"
   ]
  },
  {
   "cell_type": "code",
   "execution_count": 8,
   "id": "f522d9ec-c8ce-48b1-9174-16200f2cd434",
   "metadata": {},
   "outputs": [
    {
     "name": "stdout",
     "output_type": "stream",
     "text": [
      "              precision    recall  f1-score   support\n",
      "\n",
      "           0       0.97      1.00      0.98     64047\n",
      "           1       1.00      0.67      0.80      5953\n",
      "\n",
      "    accuracy                           0.97     70000\n",
      "   macro avg       0.99      0.84      0.89     70000\n",
      "weighted avg       0.97      0.97      0.97     70000\n",
      "\n"
     ]
    }
   ],
   "source": [
    "yhat_train = rf.predict(X_train)\n",
    "print(classification_report(y_train, yhat_train))"
   ]
  },
  {
   "cell_type": "markdown",
   "id": "36ee626d-1db9-488f-aaba-950aea6891a0",
   "metadata": {},
   "source": [
    "**Calculado o PSI entre o split de treino e o split de teste do modelo**"
   ]
  },
  {
   "cell_type": "code",
   "execution_count": 12,
   "id": "a4bda0e9-3cef-4117-8d27-44fa25c1df4b",
   "metadata": {
    "collapsed": true,
    "jupyter": {
     "outputs_hidden": true
    },
    "tags": []
   },
   "outputs": [
    {
     "data": {
      "text/html": [
       "<div>\n",
       "<style scoped>\n",
       "    .dataframe tbody tr th:only-of-type {\n",
       "        vertical-align: middle;\n",
       "    }\n",
       "\n",
       "    .dataframe tbody tr th {\n",
       "        vertical-align: top;\n",
       "    }\n",
       "\n",
       "    .dataframe thead th {\n",
       "        text-align: right;\n",
       "    }\n",
       "</style>\n",
       "<table border=\"1\" class=\"dataframe\">\n",
       "  <thead>\n",
       "    <tr style=\"text-align: right;\">\n",
       "      <th></th>\n",
       "      <th>Probabilidade_Treino</th>\n",
       "    </tr>\n",
       "  </thead>\n",
       "  <tbody>\n",
       "    <tr>\n",
       "      <th>0</th>\n",
       "      <td>0.015045</td>\n",
       "    </tr>\n",
       "    <tr>\n",
       "      <th>1</th>\n",
       "      <td>0.041227</td>\n",
       "    </tr>\n",
       "    <tr>\n",
       "      <th>2</th>\n",
       "      <td>0.015674</td>\n",
       "    </tr>\n",
       "    <tr>\n",
       "      <th>3</th>\n",
       "      <td>0.053025</td>\n",
       "    </tr>\n",
       "    <tr>\n",
       "      <th>4</th>\n",
       "      <td>0.015043</td>\n",
       "    </tr>\n",
       "    <tr>\n",
       "      <th>...</th>\n",
       "      <td>...</td>\n",
       "    </tr>\n",
       "    <tr>\n",
       "      <th>69995</th>\n",
       "      <td>0.045895</td>\n",
       "    </tr>\n",
       "    <tr>\n",
       "      <th>69996</th>\n",
       "      <td>0.015002</td>\n",
       "    </tr>\n",
       "    <tr>\n",
       "      <th>69997</th>\n",
       "      <td>0.019642</td>\n",
       "    </tr>\n",
       "    <tr>\n",
       "      <th>69998</th>\n",
       "      <td>0.022137</td>\n",
       "    </tr>\n",
       "    <tr>\n",
       "      <th>69999</th>\n",
       "      <td>0.015002</td>\n",
       "    </tr>\n",
       "  </tbody>\n",
       "</table>\n",
       "<p>70000 rows × 1 columns</p>\n",
       "</div>"
      ],
      "text/plain": [
       "       Probabilidade_Treino\n",
       "0                  0.015045\n",
       "1                  0.041227\n",
       "2                  0.015674\n",
       "3                  0.053025\n",
       "4                  0.015043\n",
       "...                     ...\n",
       "69995              0.045895\n",
       "69996              0.015002\n",
       "69997              0.019642\n",
       "69998              0.022137\n",
       "69999              0.015002\n",
       "\n",
       "[70000 rows x 1 columns]"
      ]
     },
     "execution_count": 12,
     "metadata": {},
     "output_type": "execute_result"
    }
   ],
   "source": [
    "train_proba = pd.DataFrame({'Probabilidade_Treino': rf.predict_proba(X_train)[:, 1]})\n",
    "train_proba"
   ]
  },
  {
   "cell_type": "code",
   "execution_count": 15,
   "id": "a9e27932-a6ca-4e7e-b8d6-c3d173d81c97",
   "metadata": {
    "collapsed": true,
    "jupyter": {
     "outputs_hidden": true
    },
    "tags": []
   },
   "outputs": [
    {
     "data": {
      "text/html": [
       "<div>\n",
       "<style scoped>\n",
       "    .dataframe tbody tr th:only-of-type {\n",
       "        vertical-align: middle;\n",
       "    }\n",
       "\n",
       "    .dataframe tbody tr th {\n",
       "        vertical-align: top;\n",
       "    }\n",
       "\n",
       "    .dataframe thead th {\n",
       "        text-align: right;\n",
       "    }\n",
       "</style>\n",
       "<table border=\"1\" class=\"dataframe\">\n",
       "  <thead>\n",
       "    <tr style=\"text-align: right;\">\n",
       "      <th></th>\n",
       "      <th>Probabilidade_Teste</th>\n",
       "    </tr>\n",
       "  </thead>\n",
       "  <tbody>\n",
       "    <tr>\n",
       "      <th>0</th>\n",
       "      <td>0.019820</td>\n",
       "    </tr>\n",
       "    <tr>\n",
       "      <th>1</th>\n",
       "      <td>0.012619</td>\n",
       "    </tr>\n",
       "    <tr>\n",
       "      <th>2</th>\n",
       "      <td>0.045596</td>\n",
       "    </tr>\n",
       "    <tr>\n",
       "      <th>3</th>\n",
       "      <td>0.021220</td>\n",
       "    </tr>\n",
       "    <tr>\n",
       "      <th>4</th>\n",
       "      <td>0.048528</td>\n",
       "    </tr>\n",
       "    <tr>\n",
       "      <th>...</th>\n",
       "      <td>...</td>\n",
       "    </tr>\n",
       "    <tr>\n",
       "      <th>29995</th>\n",
       "      <td>0.768193</td>\n",
       "    </tr>\n",
       "    <tr>\n",
       "      <th>29996</th>\n",
       "      <td>0.016443</td>\n",
       "    </tr>\n",
       "    <tr>\n",
       "      <th>29997</th>\n",
       "      <td>0.165770</td>\n",
       "    </tr>\n",
       "    <tr>\n",
       "      <th>29998</th>\n",
       "      <td>0.064175</td>\n",
       "    </tr>\n",
       "    <tr>\n",
       "      <th>29999</th>\n",
       "      <td>0.008769</td>\n",
       "    </tr>\n",
       "  </tbody>\n",
       "</table>\n",
       "<p>30000 rows × 1 columns</p>\n",
       "</div>"
      ],
      "text/plain": [
       "       Probabilidade_Teste\n",
       "0                 0.019820\n",
       "1                 0.012619\n",
       "2                 0.045596\n",
       "3                 0.021220\n",
       "4                 0.048528\n",
       "...                    ...\n",
       "29995             0.768193\n",
       "29996             0.016443\n",
       "29997             0.165770\n",
       "29998             0.064175\n",
       "29999             0.008769\n",
       "\n",
       "[30000 rows x 1 columns]"
      ]
     },
     "execution_count": 15,
     "metadata": {},
     "output_type": "execute_result"
    }
   ],
   "source": [
    "test_proba = pd.DataFrame({'Probabilidade_Teste' : rf.predict_proba(X_test)[:, 1]})\n",
    "test_proba"
   ]
  },
  {
   "cell_type": "markdown",
   "id": "3671a072-297d-435f-afd2-de151f8dc89e",
   "metadata": {},
   "source": [
    "Calculando os Decis para as probabilidades de treino e probabilidades de teste"
   ]
  },
  {
   "cell_type": "code",
   "execution_count": 20,
   "id": "1bd3386d-9c52-45f3-94c5-fc80facb8e31",
   "metadata": {},
   "outputs": [],
   "source": [
    "# Usando as probabilidades geradas para a classe na base treino para criar as faixas de decis\n",
    "decis = [train_proba['Probabilidade_Treino'].quantile(q=x/10) for x in range(1, 10)]\n",
    "\n",
    "# Função para classificar as probabilidades de acordo com o decil\n",
    "def atribui_decil(x):\n",
    "    if x < decis[0]:\n",
    "        return 1\n",
    "    elif x < decis[1]:\n",
    "        return 2\n",
    "    elif x < decis[2]:\n",
    "        return 3\n",
    "    elif x < decis[3]:\n",
    "        return 4\n",
    "    elif x < decis[4]:\n",
    "        return 5\n",
    "    elif x < decis[5]:\n",
    "        return 6\n",
    "    elif x < decis[6]:\n",
    "        return 7\n",
    "    elif x < decis[7]:\n",
    "        return 8\n",
    "    elif x < decis[8]:\n",
    "        return 9\n",
    "    else:\n",
    "        return 10"
   ]
  },
  {
   "cell_type": "code",
   "execution_count": 22,
   "id": "da36c80d-8d15-425e-8b32-ac9677fb556d",
   "metadata": {},
   "outputs": [],
   "source": [
    "train_proba['Decil_Treino'] = train_proba['Probabilidade_Treino'].apply(atribui_decil)\n",
    "test_proba['Decil_Teste'] = test_proba['Probabilidade_Teste'].apply(atribui_decil)"
   ]
  },
  {
   "cell_type": "code",
   "execution_count": 23,
   "id": "e1513f91-96ba-4af3-89df-55e95a65b04f",
   "metadata": {
    "collapsed": true,
    "jupyter": {
     "outputs_hidden": true
    },
    "tags": []
   },
   "outputs": [
    {
     "data": {
      "text/html": [
       "<div>\n",
       "<style scoped>\n",
       "    .dataframe tbody tr th:only-of-type {\n",
       "        vertical-align: middle;\n",
       "    }\n",
       "\n",
       "    .dataframe tbody tr th {\n",
       "        vertical-align: top;\n",
       "    }\n",
       "\n",
       "    .dataframe thead th {\n",
       "        text-align: right;\n",
       "    }\n",
       "</style>\n",
       "<table border=\"1\" class=\"dataframe\">\n",
       "  <thead>\n",
       "    <tr style=\"text-align: right;\">\n",
       "      <th></th>\n",
       "      <th>Probabilidade_Treino</th>\n",
       "      <th>Decil_Treino</th>\n",
       "    </tr>\n",
       "  </thead>\n",
       "  <tbody>\n",
       "    <tr>\n",
       "      <th>0</th>\n",
       "      <td>0.015045</td>\n",
       "      <td>2</td>\n",
       "    </tr>\n",
       "    <tr>\n",
       "      <th>1</th>\n",
       "      <td>0.041227</td>\n",
       "      <td>7</td>\n",
       "    </tr>\n",
       "    <tr>\n",
       "      <th>2</th>\n",
       "      <td>0.015674</td>\n",
       "      <td>3</td>\n",
       "    </tr>\n",
       "    <tr>\n",
       "      <th>3</th>\n",
       "      <td>0.053025</td>\n",
       "      <td>8</td>\n",
       "    </tr>\n",
       "    <tr>\n",
       "      <th>4</th>\n",
       "      <td>0.015043</td>\n",
       "      <td>2</td>\n",
       "    </tr>\n",
       "    <tr>\n",
       "      <th>...</th>\n",
       "      <td>...</td>\n",
       "      <td>...</td>\n",
       "    </tr>\n",
       "    <tr>\n",
       "      <th>69995</th>\n",
       "      <td>0.045895</td>\n",
       "      <td>7</td>\n",
       "    </tr>\n",
       "    <tr>\n",
       "      <th>69996</th>\n",
       "      <td>0.015002</td>\n",
       "      <td>2</td>\n",
       "    </tr>\n",
       "    <tr>\n",
       "      <th>69997</th>\n",
       "      <td>0.019642</td>\n",
       "      <td>3</td>\n",
       "    </tr>\n",
       "    <tr>\n",
       "      <th>69998</th>\n",
       "      <td>0.022137</td>\n",
       "      <td>5</td>\n",
       "    </tr>\n",
       "    <tr>\n",
       "      <th>69999</th>\n",
       "      <td>0.015002</td>\n",
       "      <td>2</td>\n",
       "    </tr>\n",
       "  </tbody>\n",
       "</table>\n",
       "<p>70000 rows × 2 columns</p>\n",
       "</div>"
      ],
      "text/plain": [
       "       Probabilidade_Treino  Decil_Treino\n",
       "0                  0.015045             2\n",
       "1                  0.041227             7\n",
       "2                  0.015674             3\n",
       "3                  0.053025             8\n",
       "4                  0.015043             2\n",
       "...                     ...           ...\n",
       "69995              0.045895             7\n",
       "69996              0.015002             2\n",
       "69997              0.019642             3\n",
       "69998              0.022137             5\n",
       "69999              0.015002             2\n",
       "\n",
       "[70000 rows x 2 columns]"
      ]
     },
     "execution_count": 23,
     "metadata": {},
     "output_type": "execute_result"
    }
   ],
   "source": [
    "train_proba"
   ]
  },
  {
   "cell_type": "code",
   "execution_count": 24,
   "id": "8ae38a26-112d-410f-8a2c-1fda81599e6f",
   "metadata": {
    "collapsed": true,
    "jupyter": {
     "outputs_hidden": true
    },
    "tags": []
   },
   "outputs": [
    {
     "data": {
      "text/html": [
       "<div>\n",
       "<style scoped>\n",
       "    .dataframe tbody tr th:only-of-type {\n",
       "        vertical-align: middle;\n",
       "    }\n",
       "\n",
       "    .dataframe tbody tr th {\n",
       "        vertical-align: top;\n",
       "    }\n",
       "\n",
       "    .dataframe thead th {\n",
       "        text-align: right;\n",
       "    }\n",
       "</style>\n",
       "<table border=\"1\" class=\"dataframe\">\n",
       "  <thead>\n",
       "    <tr style=\"text-align: right;\">\n",
       "      <th></th>\n",
       "      <th>Probabilidade_Teste</th>\n",
       "      <th>Decil_Teste</th>\n",
       "    </tr>\n",
       "  </thead>\n",
       "  <tbody>\n",
       "    <tr>\n",
       "      <th>0</th>\n",
       "      <td>0.019820</td>\n",
       "      <td>4</td>\n",
       "    </tr>\n",
       "    <tr>\n",
       "      <th>1</th>\n",
       "      <td>0.012619</td>\n",
       "      <td>1</td>\n",
       "    </tr>\n",
       "    <tr>\n",
       "      <th>2</th>\n",
       "      <td>0.045596</td>\n",
       "      <td>7</td>\n",
       "    </tr>\n",
       "    <tr>\n",
       "      <th>3</th>\n",
       "      <td>0.021220</td>\n",
       "      <td>4</td>\n",
       "    </tr>\n",
       "    <tr>\n",
       "      <th>4</th>\n",
       "      <td>0.048528</td>\n",
       "      <td>7</td>\n",
       "    </tr>\n",
       "    <tr>\n",
       "      <th>...</th>\n",
       "      <td>...</td>\n",
       "      <td>...</td>\n",
       "    </tr>\n",
       "    <tr>\n",
       "      <th>29995</th>\n",
       "      <td>0.768193</td>\n",
       "      <td>10</td>\n",
       "    </tr>\n",
       "    <tr>\n",
       "      <th>29996</th>\n",
       "      <td>0.016443</td>\n",
       "      <td>3</td>\n",
       "    </tr>\n",
       "    <tr>\n",
       "      <th>29997</th>\n",
       "      <td>0.165770</td>\n",
       "      <td>10</td>\n",
       "    </tr>\n",
       "    <tr>\n",
       "      <th>29998</th>\n",
       "      <td>0.064175</td>\n",
       "      <td>8</td>\n",
       "    </tr>\n",
       "    <tr>\n",
       "      <th>29999</th>\n",
       "      <td>0.008769</td>\n",
       "      <td>1</td>\n",
       "    </tr>\n",
       "  </tbody>\n",
       "</table>\n",
       "<p>30000 rows × 2 columns</p>\n",
       "</div>"
      ],
      "text/plain": [
       "       Probabilidade_Teste  Decil_Teste\n",
       "0                 0.019820            4\n",
       "1                 0.012619            1\n",
       "2                 0.045596            7\n",
       "3                 0.021220            4\n",
       "4                 0.048528            7\n",
       "...                    ...          ...\n",
       "29995             0.768193           10\n",
       "29996             0.016443            3\n",
       "29997             0.165770           10\n",
       "29998             0.064175            8\n",
       "29999             0.008769            1\n",
       "\n",
       "[30000 rows x 2 columns]"
      ]
     },
     "execution_count": 24,
     "metadata": {},
     "output_type": "execute_result"
    }
   ],
   "source": [
    "test_proba"
   ]
  },
  {
   "cell_type": "code",
   "execution_count": 28,
   "id": "eb407bee-557f-4c25-8cf5-f2d8acdc70dd",
   "metadata": {},
   "outputs": [
    {
     "data": {
      "text/html": [
       "<div>\n",
       "<style scoped>\n",
       "    .dataframe tbody tr th:only-of-type {\n",
       "        vertical-align: middle;\n",
       "    }\n",
       "\n",
       "    .dataframe tbody tr th {\n",
       "        vertical-align: top;\n",
       "    }\n",
       "\n",
       "    .dataframe thead th {\n",
       "        text-align: right;\n",
       "    }\n",
       "</style>\n",
       "<table border=\"1\" class=\"dataframe\">\n",
       "  <thead>\n",
       "    <tr style=\"text-align: right;\">\n",
       "      <th></th>\n",
       "      <th>Freq_Treino</th>\n",
       "      <th>Freq_Teste</th>\n",
       "    </tr>\n",
       "  </thead>\n",
       "  <tbody>\n",
       "    <tr>\n",
       "      <th>1</th>\n",
       "      <td>6948</td>\n",
       "      <td>3020</td>\n",
       "    </tr>\n",
       "    <tr>\n",
       "      <th>2</th>\n",
       "      <td>7032</td>\n",
       "      <td>3064</td>\n",
       "    </tr>\n",
       "    <tr>\n",
       "      <th>3</th>\n",
       "      <td>6693</td>\n",
       "      <td>2852</td>\n",
       "    </tr>\n",
       "    <tr>\n",
       "      <th>4</th>\n",
       "      <td>7314</td>\n",
       "      <td>3165</td>\n",
       "    </tr>\n",
       "    <tr>\n",
       "      <th>5</th>\n",
       "      <td>7012</td>\n",
       "      <td>3066</td>\n",
       "    </tr>\n",
       "    <tr>\n",
       "      <th>6</th>\n",
       "      <td>6982</td>\n",
       "      <td>2979</td>\n",
       "    </tr>\n",
       "    <tr>\n",
       "      <th>7</th>\n",
       "      <td>7002</td>\n",
       "      <td>2993</td>\n",
       "    </tr>\n",
       "    <tr>\n",
       "      <th>8</th>\n",
       "      <td>7017</td>\n",
       "      <td>2998</td>\n",
       "    </tr>\n",
       "    <tr>\n",
       "      <th>9</th>\n",
       "      <td>7000</td>\n",
       "      <td>2930</td>\n",
       "    </tr>\n",
       "    <tr>\n",
       "      <th>10</th>\n",
       "      <td>7000</td>\n",
       "      <td>2933</td>\n",
       "    </tr>\n",
       "  </tbody>\n",
       "</table>\n",
       "</div>"
      ],
      "text/plain": [
       "    Freq_Treino  Freq_Teste\n",
       "1          6948        3020\n",
       "2          7032        3064\n",
       "3          6693        2852\n",
       "4          7314        3165\n",
       "5          7012        3066\n",
       "6          6982        2979\n",
       "7          7002        2993\n",
       "8          7017        2998\n",
       "9          7000        2930\n",
       "10         7000        2933"
      ]
     },
     "execution_count": 28,
     "metadata": {},
     "output_type": "execute_result"
    }
   ],
   "source": [
    "count_train = train_proba.groupby(by=['Decil_Treino']).count().rename({'Probabilidade_Treino':'Freq_Treino'}, axis=1)\n",
    "count_test = test_proba.groupby(by=['Decil_Teste']).count().rename({'Probabilidade_Teste':'Freq_Teste'}, axis=1)\n",
    "psi = pd.concat([count_train, count_test], axis=1)\n",
    "psi"
   ]
  },
  {
   "cell_type": "code",
   "execution_count": 29,
   "id": "5771fd8a-be15-43e0-8c3f-2781a6d7d2a2",
   "metadata": {},
   "outputs": [
    {
     "data": {
      "text/html": [
       "<div>\n",
       "<style scoped>\n",
       "    .dataframe tbody tr th:only-of-type {\n",
       "        vertical-align: middle;\n",
       "    }\n",
       "\n",
       "    .dataframe tbody tr th {\n",
       "        vertical-align: top;\n",
       "    }\n",
       "\n",
       "    .dataframe thead th {\n",
       "        text-align: right;\n",
       "    }\n",
       "</style>\n",
       "<table border=\"1\" class=\"dataframe\">\n",
       "  <thead>\n",
       "    <tr style=\"text-align: right;\">\n",
       "      <th></th>\n",
       "      <th>Freq_Treino</th>\n",
       "      <th>Freq_Teste</th>\n",
       "      <th>% Treino</th>\n",
       "      <th>% Teste</th>\n",
       "      <th>Dif</th>\n",
       "      <th>Ln</th>\n",
       "      <th>PSI</th>\n",
       "    </tr>\n",
       "  </thead>\n",
       "  <tbody>\n",
       "    <tr>\n",
       "      <th>1</th>\n",
       "      <td>6948</td>\n",
       "      <td>3020</td>\n",
       "      <td>0.099257</td>\n",
       "      <td>0.100667</td>\n",
       "      <td>-0.001410</td>\n",
       "      <td>-0.014101</td>\n",
       "      <td>1.987547e-05</td>\n",
       "    </tr>\n",
       "    <tr>\n",
       "      <th>2</th>\n",
       "      <td>7032</td>\n",
       "      <td>3064</td>\n",
       "      <td>0.100457</td>\n",
       "      <td>0.102133</td>\n",
       "      <td>-0.001676</td>\n",
       "      <td>-0.016548</td>\n",
       "      <td>2.773752e-05</td>\n",
       "    </tr>\n",
       "    <tr>\n",
       "      <th>3</th>\n",
       "      <td>6693</td>\n",
       "      <td>2852</td>\n",
       "      <td>0.095614</td>\n",
       "      <td>0.095067</td>\n",
       "      <td>0.000548</td>\n",
       "      <td>0.005744</td>\n",
       "      <td>3.145437e-06</td>\n",
       "    </tr>\n",
       "    <tr>\n",
       "      <th>4</th>\n",
       "      <td>7314</td>\n",
       "      <td>3165</td>\n",
       "      <td>0.104486</td>\n",
       "      <td>0.105500</td>\n",
       "      <td>-0.001014</td>\n",
       "      <td>-0.009661</td>\n",
       "      <td>9.798605e-06</td>\n",
       "    </tr>\n",
       "    <tr>\n",
       "      <th>5</th>\n",
       "      <td>7012</td>\n",
       "      <td>3066</td>\n",
       "      <td>0.100171</td>\n",
       "      <td>0.102200</td>\n",
       "      <td>-0.002029</td>\n",
       "      <td>-0.020049</td>\n",
       "      <td>4.067017e-05</td>\n",
       "    </tr>\n",
       "    <tr>\n",
       "      <th>6</th>\n",
       "      <td>6982</td>\n",
       "      <td>2979</td>\n",
       "      <td>0.099743</td>\n",
       "      <td>0.099300</td>\n",
       "      <td>0.000443</td>\n",
       "      <td>0.004450</td>\n",
       "      <td>1.970659e-06</td>\n",
       "    </tr>\n",
       "    <tr>\n",
       "      <th>7</th>\n",
       "      <td>7002</td>\n",
       "      <td>2993</td>\n",
       "      <td>0.100029</td>\n",
       "      <td>0.099767</td>\n",
       "      <td>0.000262</td>\n",
       "      <td>0.002622</td>\n",
       "      <td>6.866444e-07</td>\n",
       "    </tr>\n",
       "    <tr>\n",
       "      <th>8</th>\n",
       "      <td>7017</td>\n",
       "      <td>2998</td>\n",
       "      <td>0.100243</td>\n",
       "      <td>0.099933</td>\n",
       "      <td>0.000310</td>\n",
       "      <td>0.003093</td>\n",
       "      <td>9.572074e-07</td>\n",
       "    </tr>\n",
       "    <tr>\n",
       "      <th>9</th>\n",
       "      <td>7000</td>\n",
       "      <td>2930</td>\n",
       "      <td>0.100000</td>\n",
       "      <td>0.097667</td>\n",
       "      <td>0.002333</td>\n",
       "      <td>0.023610</td>\n",
       "      <td>5.508969e-05</td>\n",
       "    </tr>\n",
       "    <tr>\n",
       "      <th>10</th>\n",
       "      <td>7000</td>\n",
       "      <td>2933</td>\n",
       "      <td>0.100000</td>\n",
       "      <td>0.097767</td>\n",
       "      <td>0.002233</td>\n",
       "      <td>0.022586</td>\n",
       "      <td>5.044318e-05</td>\n",
       "    </tr>\n",
       "  </tbody>\n",
       "</table>\n",
       "</div>"
      ],
      "text/plain": [
       "    Freq_Treino  Freq_Teste  % Treino   % Teste       Dif        Ln  \\\n",
       "1          6948        3020  0.099257  0.100667 -0.001410 -0.014101   \n",
       "2          7032        3064  0.100457  0.102133 -0.001676 -0.016548   \n",
       "3          6693        2852  0.095614  0.095067  0.000548  0.005744   \n",
       "4          7314        3165  0.104486  0.105500 -0.001014 -0.009661   \n",
       "5          7012        3066  0.100171  0.102200 -0.002029 -0.020049   \n",
       "6          6982        2979  0.099743  0.099300  0.000443  0.004450   \n",
       "7          7002        2993  0.100029  0.099767  0.000262  0.002622   \n",
       "8          7017        2998  0.100243  0.099933  0.000310  0.003093   \n",
       "9          7000        2930  0.100000  0.097667  0.002333  0.023610   \n",
       "10         7000        2933  0.100000  0.097767  0.002233  0.022586   \n",
       "\n",
       "             PSI  \n",
       "1   1.987547e-05  \n",
       "2   2.773752e-05  \n",
       "3   3.145437e-06  \n",
       "4   9.798605e-06  \n",
       "5   4.067017e-05  \n",
       "6   1.970659e-06  \n",
       "7   6.866444e-07  \n",
       "8   9.572074e-07  \n",
       "9   5.508969e-05  \n",
       "10  5.044318e-05  "
      ]
     },
     "execution_count": 29,
     "metadata": {},
     "output_type": "execute_result"
    }
   ],
   "source": [
    "psi['% Treino'] = psi['Freq_Treino'] / psi['Freq_Treino'].sum()\n",
    "psi['% Teste'] = psi['Freq_Teste'] / psi['Freq_Teste'].sum()\n",
    "psi['Dif'] = psi['% Treino'] - psi['% Teste']\n",
    "psi['Ln'] = np.log(psi['% Treino'] / psi['% Teste'])\n",
    "psi['PSI'] = psi['Dif'] * psi['Ln']\n",
    "psi"
   ]
  },
  {
   "cell_type": "code",
   "execution_count": 32,
   "id": "85570a76-e3d1-4ae9-8104-b2038f205bfb",
   "metadata": {},
   "outputs": [
    {
     "name": "stdout",
     "output_type": "stream",
     "text": [
      "O valor do PSI entre os datasets é 0.02\n"
     ]
    }
   ],
   "source": [
    "print(f\"O valor do PSI entre os datasets é {round(psi['PSI'].sum() * 100, 2)}\")"
   ]
  },
  {
   "cell_type": "markdown",
   "id": "962b6a59-59ee-4cd9-a340-12875bb448b6",
   "metadata": {},
   "source": [
    "**Referências:**\n",
    "</br> <a href=\"https://www.listendata.com/2015/05/population-stability-index.html\">POPULATION STABILITY INDEX AND CHARACTERISTIC ANALYSIS - Listen Data</a>\n",
    "</br> <a href=\"https://medium.com/model-monitoring-psi/population-stability-index-psi-ab133b0a5d42\">Population Stability Index (PSI) - Medium</a>"
   ]
  }
 ],
 "metadata": {
  "kernelspec": {
   "display_name": "Python 3 (ipykernel)",
   "language": "python",
   "name": "python3"
  },
  "language_info": {
   "codemirror_mode": {
    "name": "ipython",
    "version": 3
   },
   "file_extension": ".py",
   "mimetype": "text/x-python",
   "name": "python",
   "nbconvert_exporter": "python",
   "pygments_lexer": "ipython3",
   "version": "3.9.16"
  }
 },
 "nbformat": 4,
 "nbformat_minor": 5
}
